{
  "nbformat": 4,
  "nbformat_minor": 0,
  "metadata": {
    "colab": {
      "name": "Unit2_L2.ipynb",
      "provenance": [],
      "collapsed_sections": []
    },
    "kernelspec": {
      "name": "python3",
      "display_name": "Python 3"
    },
    "language_info": {
      "name": "python"
    }
  },
  "cells": [
    {
      "cell_type": "markdown",
      "source": [
        "1.\tWhat is Python and why is it useful?"
      ],
      "metadata": {
        "id": "RRZaP_fcJfMq"
      }
    },
    {
      "cell_type": "markdown",
      "source": [
        "Python is a general purpose, interpreted, interactive, object-oriented, and high-level programming language.\n",
        "\n",
        "It is useful because it allows data analysis for useful and insightful decision making."
      ],
      "metadata": {
        "id": "hArbk5xyJkpP"
      }
    },
    {
      "cell_type": "markdown",
      "source": [
        "2.\tAre the following variable names allowed in python?\n",
        "a.\t1_message\n",
        "b.\tGreeting_message\n",
        "c.\tMessage_1\n",
        "d.\tFirst name\n",
        "e.\tFull_name\n"
      ],
      "metadata": {
        "id": "QL5XZKnmfxSm"
      }
    },
    {
      "cell_type": "markdown",
      "source": [
        "a. 1_message = Not allowed (variable names cannot start with a number)\n",
        "b. Greeting_message = Allowed (varible names can only contain letters, numbers, and underscores but spaces are not allowed)\n",
        "c. Message_1 = Allowed (varible names can only contain letters, numbers, and underscores but spaces are not allowed)\n",
        "d. First name = Not allowed (Spaces are not allowed in variable names)\n",
        "e. Full_name = Allowed (varible names can only contain letters, numbers, and underscores but spaces are not allowed)\n"
      ],
      "metadata": {
        "id": "WdUaztAufznN"
      }
    },
    {
      "cell_type": "code",
      "execution_count": null,
      "metadata": {
        "colab": {
          "base_uri": "https://localhost:8080/"
        },
        "id": "dMrrHrvWInQz",
        "outputId": "8ec19dfd-5de1-4d5d-9ac6-6e2b5278f9ef"
      },
      "outputs": [
        {
          "output_type": "stream",
          "name": "stdout",
          "text": [
            "hello there!\n"
          ]
        }
      ],
      "source": [
        "# 3.\tCreate a variable that holds the string “hello there!”\n",
        "greetings=\"hello there!\"\n",
        "print(greetings)"
      ]
    },
    {
      "cell_type": "code",
      "source": [
        "# 4.\tCreate a variable for first name, last name and an email extension.  Concatenating all three together to form an email address. \n",
        "#     For example: firstnamelastname@gmail.com\n",
        "firs_name=\"alieu\"\n",
        "last_name=\"kassama\"\n",
        "email_extension=\"@hotmail.com\"\n",
        "my_email=firs_name+last_name+email_extension\n",
        "print(my_email)\n"
      ],
      "metadata": {
        "colab": {
          "base_uri": "https://localhost:8080/"
        },
        "id": "lBQnVqE0jtHR",
        "outputId": "8475f749-1c2a-48f0-9257-46fb7962fe34"
      },
      "execution_count": null,
      "outputs": [
        {
          "output_type": "stream",
          "name": "stdout",
          "text": [
            "alieukassama@hotmail.com\n"
          ]
        }
      ]
    },
    {
      "cell_type": "code",
      "source": [
        "# 5.\tStore someone you know name in a variable called name.  Print their name in lower and uppercase using a method.\n",
        "name=\"fatima\"\n",
        "print(name.lower())\n",
        "print(name.upper())"
      ],
      "metadata": {
        "colab": {
          "base_uri": "https://localhost:8080/"
        },
        "id": "aC59npQ1p1JR",
        "outputId": "616f701f-1a0e-432f-c551-89627cdcf35f"
      },
      "execution_count": null,
      "outputs": [
        {
          "output_type": "stream",
          "name": "stdout",
          "text": [
            "fatima\n",
            "FATIMA\n"
          ]
        }
      ]
    },
    {
      "cell_type": "code",
      "source": [
        "# 6.\tUsing a variable, ask your friend if they want to hang out on the 15th of the month.  For example, “Do you want to hang out on the 15th of this month?” \n",
        "#     You should have to convert the number to a string.\n",
        "invitation=(\"Do you want to hang out on the \"+\"15th \"+\"of this month?\") \n",
        "print(invitation)"
      ],
      "metadata": {
        "colab": {
          "base_uri": "https://localhost:8080/"
        },
        "id": "c3_FL7Wyqzc9",
        "outputId": "6c84dbff-bb43-444c-d01a-f50d27e9f9ff"
      },
      "execution_count": null,
      "outputs": [
        {
          "output_type": "stream",
          "name": "stdout",
          "text": [
            "Do you want to hang out on the 15th of this month?\n"
          ]
        }
      ]
    }
  ]
}