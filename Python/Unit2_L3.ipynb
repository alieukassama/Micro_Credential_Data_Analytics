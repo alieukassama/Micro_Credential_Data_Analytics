{
  "nbformat": 4,
  "nbformat_minor": 0,
  "metadata": {
    "colab": {
      "name": "Unit2_L3.ipynb",
      "provenance": [],
      "collapsed_sections": []
    },
    "kernelspec": {
      "name": "python3",
      "display_name": "Python 3"
    },
    "language_info": {
      "name": "python"
    }
  },
  "cells": [
    {
      "cell_type": "code",
      "source": [
        "# 1.\tCreate a list of 5 of your favorite tv shows.  \n",
        "favorite_tv_shows=[\"prison break\",\"24 hours\",\"nikita\",\"premier league\",\"wimbledon\"]"
      ],
      "metadata": {
        "id": "Uchjv_8_0P21"
      },
      "execution_count": null,
      "outputs": []
    },
    {
      "cell_type": "code",
      "source": [
        "# 2.\tPrint the list in its original order.\n",
        "favorite_tv_shows=[\"prison break\",\"24 hours\",\"nikita\",\"premier league\",\"wimbledon\"]\n",
        "print(favorite_tv_shows)"
      ],
      "metadata": {
        "colab": {
          "base_uri": "https://localhost:8080/"
        },
        "id": "GaFIhaDV0Hd-",
        "outputId": "89ebe6c3-8e21-4e5c-82fb-dc1049bb1313"
      },
      "execution_count": null,
      "outputs": [
        {
          "output_type": "stream",
          "name": "stdout",
          "text": [
            "['prison break', '24 hours', 'nikita', 'premier league', 'wimbledon']\n"
          ]
        }
      ]
    },
    {
      "cell_type": "code",
      "source": [
        "# 3.\tUse the sorted() function to print the list in alphabetical order.  How is sorted() different from sort()?\n",
        "favorite_tv_shows=[\"prison break\",\"24 hours\",\"nikita\",\"premier league\",\"wimbledon\"]\n",
        "print(favorite_tv_shows)\n",
        "print(sorted(favorite_tv_shows))\n",
        "# sorted() is different from sort() in the sense that sorted() is temporal change in alphabetical order while sort() is fixed change in alphabetical order"
      ],
      "metadata": {
        "colab": {
          "base_uri": "https://localhost:8080/"
        },
        "id": "Epk0_uO40rSp",
        "outputId": "c3e7bdf0-b3e8-4b67-af95-bf4f4d5ff3ee"
      },
      "execution_count": null,
      "outputs": [
        {
          "output_type": "stream",
          "name": "stdout",
          "text": [
            "['prison break', '24 hours', 'nikita', 'premier league', 'wimbledon']\n",
            "['24 hours', 'nikita', 'premier league', 'prison break', 'wimbledon']\n"
          ]
        }
      ]
    },
    {
      "cell_type": "code",
      "source": [
        "# 4.\tPrint out your original list.\n",
        "favorite_tv_shows=[\"prison break\",\"24 hours\",\"nikita\",\"premier league\",\"wimbledon\"]\n",
        "print(favorite_tv_shows)\n",
        "print(sorted(favorite_tv_shows))\n",
        "print(favorite_tv_shows)"
      ],
      "metadata": {
        "colab": {
          "base_uri": "https://localhost:8080/"
        },
        "id": "fxg0rP_t3Wzn",
        "outputId": "1d808df3-0539-4463-d7cc-ac6f1f425428"
      },
      "execution_count": null,
      "outputs": [
        {
          "output_type": "stream",
          "name": "stdout",
          "text": [
            "['prison break', '24 hours', 'nikita', 'premier league', 'wimbledon']\n",
            "['24 hours', 'nikita', 'premier league', 'prison break', 'wimbledon']\n",
            "['prison break', '24 hours', 'nikita', 'premier league', 'wimbledon']\n"
          ]
        }
      ]
    },
    {
      "cell_type": "code",
      "source": [
        "# 5.\tUsed sorted() to print your list in reverse alphabetical order.\n",
        "favorite_tv_shows=[\"prison break\",\"24 hours\",\"nikita\",\"premier league\",\"wimbledon\"]\n",
        "print(favorite_tv_shows)\n",
        "print(sorted(favorite_tv_shows))\n",
        "print(favorite_tv_shows)\n",
        "favorite_tv_shows.sort(reverse=True)\n",
        "print(favorite_tv_shows)"
      ],
      "metadata": {
        "colab": {
          "base_uri": "https://localhost:8080/"
        },
        "id": "uzf3bZOe4G13",
        "outputId": "3c3f8379-e64a-46f6-8dd7-caf4202a235d"
      },
      "execution_count": null,
      "outputs": [
        {
          "output_type": "stream",
          "name": "stdout",
          "text": [
            "['prison break', '24 hours', 'nikita', 'premier league', 'wimbledon']\n",
            "['24 hours', 'nikita', 'premier league', 'prison break', 'wimbledon']\n",
            "['prison break', '24 hours', 'nikita', 'premier league', 'wimbledon']\n",
            "['wimbledon', 'prison break', 'premier league', 'nikita', '24 hours']\n"
          ]
        }
      ]
    },
    {
      "cell_type": "code",
      "source": [
        "# 6.\tCreate a message indicating how many favorite TV shows you have – use the len() function.\n",
        "favorite_tv_shows=[\"prison break\",\"24 hours\",\"nikita\",\"premier league\",\"wimbledon\"]\n",
        "message=\"I have \"+str(len(favorite_tv_shows))+\" \"+\"favorite TV shows\"\n",
        "print(message)"
      ],
      "metadata": {
        "colab": {
          "base_uri": "https://localhost:8080/"
        },
        "id": "f49uldZt46o4",
        "outputId": "5c13c906-59eb-4d66-c931-662b7ece31e2"
      },
      "execution_count": null,
      "outputs": [
        {
          "output_type": "stream",
          "name": "stdout",
          "text": [
            "I have 5 favorite TV shows\n"
          ]
        }
      ]
    }
  ]
}