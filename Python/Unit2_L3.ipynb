{
  "nbformat": 4,
  "nbformat_minor": 0,
  "metadata": {
    "colab": {
      "name": "Unit2_L3.ipynb",
      "provenance": [],
      "collapsed_sections": []
    },
    "kernelspec": {
      "name": "python3",
      "display_name": "Python 3"
    },
    "language_info": {
      "name": "python"
    }
  },
  "cells": [
    {
      "cell_type": "code",
      "source": [
        "# 1.\tCreate a list of 5 of your favorite tv shows.  \n",
        "favorite_tv_shows=[\"prison break\",\"24 hours\",\"nikita\",\"premier league\",\"wimbledon\"]"
      ],
      "metadata": {
        "id": "Uchjv_8_0P21"
      },
      "execution_count": null,
      "outputs": []
    },
    {
      "cell_type": "code",
      "source": [
        "# 2.\tPrint the list in its original order.\n",
        "favorite_tv_shows=[\"prison break\",\"24 hours\",\"nikita\",\"premier league\",\"wimbledon\"]\n",
        "print(favorite_tv_shows)"
      ],
      "metadata": {
        "colab": {
          "base_uri": "https://localhost:8080/"
        },
        "id": "GaFIhaDV0Hd-",
        "outputId": "45418c9a-d3af-4aad-fdbe-8c7f00b513a8"
      },
      "execution_count": null,
      "outputs": [
        {
          "output_type": "stream",
          "name": "stdout",
          "text": [
            "['prison break', '24 hours', 'nikita', 'premier league', 'wimbledon']\n"
          ]
        }
      ]
    },
    {
      "cell_type": "code",
      "source": [
        "# 3.\tUse the sorted() function to print the list in alphabetical order.  How is sorted() different from sort()?\n",
        "print(sorted(favorite_tv_shows))\n",
        "# sorted() is different from sort() in the sense that sorted() is a temporal change in alphabetical order while sort() is a fixed change in alphabetical order"
      ],
      "metadata": {
        "colab": {
          "base_uri": "https://localhost:8080/"
        },
        "id": "Epk0_uO40rSp",
        "outputId": "25c5e870-aa37-46fa-f8a0-1b686efb9b76"
      },
      "execution_count": null,
      "outputs": [
        {
          "output_type": "stream",
          "name": "stdout",
          "text": [
            "['24 hours', 'nikita', 'premier league', 'prison break', 'wimbledon']\n"
          ]
        }
      ]
    },
    {
      "cell_type": "code",
      "source": [
        "# 4.\tPrint out your original list.\n",
        "print(favorite_tv_shows)"
      ],
      "metadata": {
        "colab": {
          "base_uri": "https://localhost:8080/"
        },
        "id": "fxg0rP_t3Wzn",
        "outputId": "26b6fbde-8200-4f5c-c12d-a21ee69aad65"
      },
      "execution_count": null,
      "outputs": [
        {
          "output_type": "stream",
          "name": "stdout",
          "text": [
            "['prison break', '24 hours', 'nikita', 'premier league', 'wimbledon']\n"
          ]
        }
      ]
    },
    {
      "cell_type": "code",
      "source": [
        "# 5.\tUsed sorted() to print your list in reverse alphabetical order.\n",
        "favorite_tv_shows.sort(reverse=True)\n",
        "print(favorite_tv_shows)"
      ],
      "metadata": {
        "colab": {
          "base_uri": "https://localhost:8080/"
        },
        "id": "uzf3bZOe4G13",
        "outputId": "cf7485c3-ab1e-48ce-fdc5-5d03150e1b0b"
      },
      "execution_count": null,
      "outputs": [
        {
          "output_type": "stream",
          "name": "stdout",
          "text": [
            "['wimbledon', 'prison break', 'premier league', 'nikita', '24 hours']\n"
          ]
        }
      ]
    },
    {
      "cell_type": "code",
      "source": [
        "# 6.\tCreate a message indicating how many favorite TV shows you have – use the len() function.\n",
        "message=\"I have \"+str(len(favorite_tv_shows))+\" \"+\"favorite TV shows\"\n",
        "print(message)"
      ],
      "metadata": {
        "colab": {
          "base_uri": "https://localhost:8080/"
        },
        "id": "f49uldZt46o4",
        "outputId": "32abcee2-2aa5-418f-def3-cf31e6914c55"
      },
      "execution_count": null,
      "outputs": [
        {
          "output_type": "stream",
          "name": "stdout",
          "text": [
            "I have 5 favorite TV shows\n"
          ]
        }
      ]
    }
  ]
}