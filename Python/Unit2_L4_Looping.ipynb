{
  "nbformat": 4,
  "nbformat_minor": 0,
  "metadata": {
    "colab": {
      "name": "Unit2_L4_Looping.ipynb",
      "provenance": [],
      "collapsed_sections": []
    },
    "kernelspec": {
      "name": "python3",
      "display_name": "Python 3"
    },
    "language_info": {
      "name": "python"
    }
  },
  "cells": [
    {
      "cell_type": "code",
      "execution_count": 2,
      "metadata": {
        "colab": {
          "base_uri": "https://localhost:8080/"
        },
        "id": "e24RmiDYp7FB",
        "outputId": "0291f1cd-43f4-4f7b-c421-798855356104"
      },
      "outputs": [
        {
          "output_type": "stream",
          "name": "stdout",
          "text": [
            "['momodou', 'fatima', 'lamin', 'isha', 'awa']\n"
          ]
        }
      ],
      "source": [
        "# 1.\tCreate a list that holds 5 data variables. \n",
        "kids=['momodou','fatima','lamin','isha','awa']\n",
        "print(kids)"
      ]
    },
    {
      "cell_type": "code",
      "source": [
        "# 2.\tPrint out those variables by using a for loop.\n",
        "kids=['momodou','fatima','lamin','isha','awa']\n",
        "for x in kids:\n",
        "  print(x)"
      ],
      "metadata": {
        "colab": {
          "base_uri": "https://localhost:8080/"
        },
        "id": "BdTkCNlzrcVZ",
        "outputId": "2a05e6e7-2f75-447a-a9f3-d7be8eaede0c"
      },
      "execution_count": 3,
      "outputs": [
        {
          "output_type": "stream",
          "name": "stdout",
          "text": [
            "momodou\n",
            "fatima\n",
            "lamin\n",
            "isha\n",
            "awa\n"
          ]
        }
      ]
    },
    {
      "cell_type": "code",
      "source": [
        "# 3.\tModify your for loop to add a message to your for loop.\n",
        "for x in kids:\n",
        "  print(x.title()+' is a child\\n')  \n",
        "  "
      ],
      "metadata": {
        "colab": {
          "base_uri": "https://localhost:8080/"
        },
        "id": "-UBRYpbzrzzu",
        "outputId": "6829aaed-8e15-4759-fab6-122102ebf9df"
      },
      "execution_count": 4,
      "outputs": [
        {
          "output_type": "stream",
          "name": "stdout",
          "text": [
            "Momodou is a child\n",
            "\n",
            "Fatima is a child\n",
            "\n",
            "Lamin is a child\n",
            "\n",
            "Isha is a child\n",
            "\n",
            "Awa is a child\n",
            "\n"
          ]
        }
      ]
    },
    {
      "cell_type": "code",
      "source": [
        "# 4.\tUse a for loop to print even numbers from 1-20.\n",
        "evennumbers=list(range(2,20,2))\n",
        "for y in evennumbers:\n",
        "  print(y)"
      ],
      "metadata": {
        "colab": {
          "base_uri": "https://localhost:8080/"
        },
        "id": "XNudMKlBt_hh",
        "outputId": "7b75a6d1-5ac5-4fc1-c43e-8d768ba876ed"
      },
      "execution_count": null,
      "outputs": [
        {
          "output_type": "stream",
          "name": "stdout",
          "text": [
            "2\n",
            "4\n",
            "6\n",
            "8\n",
            "10\n",
            "12\n",
            "14\n",
            "16\n",
            "18\n"
          ]
        }
      ]
    },
    {
      "cell_type": "code",
      "source": [
        "# 5.\tSort your list in alphabetic order.\n",
        "kids.sort()\n",
        "print(kids)"
      ],
      "metadata": {
        "colab": {
          "base_uri": "https://localhost:8080/"
        },
        "id": "IrP3Er6du2gA",
        "outputId": "ea3ccd97-26c1-461f-f24c-9bb2cd40741d"
      },
      "execution_count": null,
      "outputs": [
        {
          "output_type": "stream",
          "name": "stdout",
          "text": [
            "['awa', 'fatima', 'isha', 'lamin', 'momodou']\n"
          ]
        }
      ]
    },
    {
      "cell_type": "code",
      "source": [
        "# 6.\tPrint out the first three elements of your list.\n",
        "print(kids[:3])"
      ],
      "metadata": {
        "colab": {
          "base_uri": "https://localhost:8080/"
        },
        "id": "nYDh37UwwG5L",
        "outputId": "0ffb693a-150f-4c68-f240-5f88bcee0fe6"
      },
      "execution_count": null,
      "outputs": [
        {
          "output_type": "stream",
          "name": "stdout",
          "text": [
            "['awa', 'fatima', 'isha']\n"
          ]
        }
      ]
    },
    {
      "cell_type": "code",
      "source": [
        "# 7.\tCreate a loop to print the last 2 elements of your list.\n",
        "for w in kids:\n",
        "  print(kids[-2:])"
      ],
      "metadata": {
        "colab": {
          "base_uri": "https://localhost:8080/"
        },
        "id": "l7mEkePTxjE7",
        "outputId": "5f339cc7-8a5c-40ac-b15e-b5e3000eae53"
      },
      "execution_count": null,
      "outputs": [
        {
          "output_type": "stream",
          "name": "stdout",
          "text": [
            "['lamin', 'momodou']\n",
            "['lamin', 'momodou']\n",
            "['lamin', 'momodou']\n",
            "['lamin', 'momodou']\n",
            "['lamin', 'momodou']\n"
          ]
        }
      ]
    }
  ]
}