{
  "nbformat": 4,
  "nbformat_minor": 0,
  "metadata": {
    "colab": {
      "name": "Unit2_L5_Condition.ipynb",
      "provenance": [],
      "collapsed_sections": []
    },
    "kernelspec": {
      "name": "python3",
      "display_name": "Python 3"
    },
    "language_info": {
      "name": "python"
    }
  },
  "cells": [
    {
      "cell_type": "markdown",
      "source": [
        "1.\tMake a list of 5 or more usernames, including an admin account.  Imagine you are writing code that will welcome people to your application on login. Loop through the list and print your greeting.\n",
        "a.\tIf the admin account logs in, give them a special greeting.  They’re the admin, after all!\n",
        "b.\tOther users can get the generic greeting\n"
      ],
      "metadata": {
        "id": "sRRuvW6jzSWn"
      }
    },
    {
      "cell_type": "code",
      "execution_count": null,
      "metadata": {
        "colab": {
          "base_uri": "https://localhost:8080/"
        },
        "id": "MmDnqaTayR3H",
        "outputId": "eff0e2b9-354f-4c17-b515-66f6fa58047c"
      },
      "outputs": [
        {
          "output_type": "stream",
          "name": "stdout",
          "text": [
            "Welcome back Fatoumata, you have user restrictions at log in!\n",
            "\n",
            "Welcome back Momodou, you have user restrictions at log in!\n",
            "\n",
            "Welcome back Fatima, you have user restrictions at log in!\n",
            "\n",
            "Welcome back Omar, you have user restrictions at log in!\n",
            "\n",
            "Welcome back Admin, you have no user restriction at log in!\n",
            "\n"
          ]
        }
      ],
      "source": [
        "usernames=['fatoumata','momodou','fatima','omar','admin']\n",
        "for x in usernames:\n",
        "  if x == 'admin':\n",
        "    print('Welcome back '+str(x.title())+', you have no user restriction at log in!\\n')\n",
        "  else:\n",
        "    print('Welcome back '+str(x.title())+', you have user restrictions at log in!\\n')\n"
      ]
    },
    {
      "cell_type": "markdown",
      "source": [
        "2.\tStore numbers 1-10 in a list\n",
        "a.\tLoop through the list\n",
        "b.\tUse an if-elif-else chain inside your loop to print the ordinal ending for each number – for example – 1st, 2nd, 3rd … etc.\n"
      ],
      "metadata": {
        "id": "-ZlrUTQA7iZl"
      }
    },
    {
      "cell_type": "code",
      "source": [
        "numbers=[1,2,3,4,5,6,7,8,9,10]\n",
        "for num in numbers:\n",
        "  print(num)\n",
        "for num in numbers:\n",
        "  if num == 1:\n",
        "    print(str(num)+'st\\n')\n",
        "  elif num == 2:\n",
        "    print(str(num)+'nd\\n')\n",
        "  elif num == 3:\n",
        "    print(str(num)+'rd\\n')\n",
        "  else:\n",
        "    print(str(num)+'th\\n')"
      ],
      "metadata": {
        "colab": {
          "base_uri": "https://localhost:8080/"
        },
        "id": "I-QcsACHCNBo",
        "outputId": "98c6b0b0-f295-469e-cf83-82a9c36facdc"
      },
      "execution_count": null,
      "outputs": [
        {
          "output_type": "stream",
          "name": "stdout",
          "text": [
            "1\n",
            "2\n",
            "3\n",
            "4\n",
            "5\n",
            "6\n",
            "7\n",
            "8\n",
            "9\n",
            "10\n",
            "1st\n",
            "\n",
            "2nd\n",
            "\n",
            "3rd\n",
            "\n",
            "4th\n",
            "\n",
            "5th\n",
            "\n",
            "6th\n",
            "\n",
            "7th\n",
            "\n",
            "8th\n",
            "\n",
            "9th\n",
            "\n",
            "10th\n",
            "\n"
          ]
        }
      ]
    }
  ]
}