{
  "nbformat": 4,
  "nbformat_minor": 0,
  "metadata": {
    "colab": {
      "name": "Unit2_L6_Dictionaries.ipynb",
      "provenance": [],
      "collapsed_sections": []
    },
    "kernelspec": {
      "name": "python3",
      "display_name": "Python 3"
    },
    "language_info": {
      "name": "python"
    }
  },
  "cells": [
    {
      "cell_type": "code",
      "execution_count": 1,
      "metadata": {
        "id": "JBSt1O6xvUaL"
      },
      "outputs": [],
      "source": [
        "# 1.\tCreate a simple dictionary that stores 2 variables, for example: first and last name.\n",
        "full_name={'first_name':'alieu','last_name':'kassama'}"
      ]
    },
    {
      "cell_type": "code",
      "source": [
        "# 2.\tPrint out those variables stored in your previous dictionary. \n",
        "full_name={'first_name':'alieu','last_name':'kassama'}\n",
        "print(full_name)"
      ],
      "metadata": {
        "colab": {
          "base_uri": "https://localhost:8080/"
        },
        "id": "zswmx6Nvwrty",
        "outputId": "96975698-0494-4b99-d5cf-ca184d4f8103"
      },
      "execution_count": 2,
      "outputs": [
        {
          "output_type": "stream",
          "name": "stdout",
          "text": [
            "{'first_name': 'alieu', 'last_name': 'kassama'}\n"
          ]
        }
      ]
    },
    {
      "cell_type": "code",
      "source": [
        "# 3.\tAdd a message to those variables on printing: for example: “Hello, firstname lastname!”\n",
        "salutation_fname=full_name['first_name']\n",
        "salutation_lname=full_name['last_name']\n",
        "print('Hello, '+salutation_fname.title()+' '+salutation_lname.title()+'!')"
      ],
      "metadata": {
        "colab": {
          "base_uri": "https://localhost:8080/"
        },
        "id": "kJI889CTx-rO",
        "outputId": "d4060620-5dc0-4666-f6f8-6bd8021d4792"
      },
      "execution_count": 3,
      "outputs": [
        {
          "output_type": "stream",
          "name": "stdout",
          "text": [
            "Hello, Alieu Kassama!\n"
          ]
        }
      ]
    },
    {
      "cell_type": "code",
      "source": [
        "# 4.\tCreate a dictionary that holds 2 key: value pairs:\n",
        "# a.\tLook through your dictionary and print each pair,\n",
        "test_scores={'grade A':'90-100','grade B':'80-89'}\n",
        "for key, value in test_scores.items():\n",
        "  print(key+': '+value)\n"
      ],
      "metadata": {
        "colab": {
          "base_uri": "https://localhost:8080/"
        },
        "id": "uVg89u2J1LBC",
        "outputId": "33c71387-d170-41b5-ca98-ac8bfb565f81"
      },
      "execution_count": 4,
      "outputs": [
        {
          "output_type": "stream",
          "name": "stdout",
          "text": [
            "grade A: 90-100\n",
            "grade B: 80-89\n"
          ]
        }
      ]
    },
    {
      "cell_type": "code",
      "source": [
        "# 5.\tCreate a nested dictionary containing three dictionaries – these dictionaries could be anything (favorite pets, travel locations, etc.)\n",
        "# a.\tLoop through the dictionaries and print a message for each.\n",
        "# We did not cover it in class and you have asked us not to do it!"
      ],
      "metadata": {
        "id": "ozgkPoJW57VZ"
      },
      "execution_count": null,
      "outputs": []
    }
  ]
}