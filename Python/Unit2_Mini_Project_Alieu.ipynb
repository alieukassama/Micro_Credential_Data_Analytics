{
  "nbformat": 4,
  "nbformat_minor": 0,
  "metadata": {
    "colab": {
      "name": "Unit2_Mini_Project_Alieu.ipynb",
      "provenance": [],
      "collapsed_sections": []
    },
    "kernelspec": {
      "name": "python3",
      "display_name": "Python 3"
    }
  },
  "cells": [
    {
      "cell_type": "markdown",
      "metadata": {
        "id": "Vgs8Kp4TidFQ"
      },
      "source": [
        "# Intrdouction to Python - Mini Project"
      ]
    },
    {
      "cell_type": "markdown",
      "metadata": {
        "id": "_Hq7Ny79iwgD"
      },
      "source": [
        "#Python Project – Odd or Even\n",
        "\n",
        "Ask the user for a number. Depending on whether the number is even or odd, print out an appropriate message to the user. Hint: how does an even / odd number react differently when divided by 2?\n"
      ]
    },
    {
      "cell_type": "code",
      "metadata": {
        "id": "lotvpVpvlKsR",
        "colab": {
          "base_uri": "https://localhost:8080/"
        },
        "outputId": "f6376e43-0fa4-4688-85a7-2adeef1b4533"
      },
      "source": [
        "x=int(input('Enter a number: '))\n",
        "if (x%2) ==0:\n",
        "  print(x,' is Even'.format(x))\n",
        "else:\n",
        "  print(x,' is Odd'.format(x)) "
      ],
      "execution_count": null,
      "outputs": [
        {
          "output_type": "stream",
          "name": "stdout",
          "text": [
            "Enter a number: 1\n",
            "1  is Odd\n"
          ]
        }
      ]
    },
    {
      "cell_type": "code",
      "metadata": {
        "id": "lyoaBLI8nvRT",
        "colab": {
          "base_uri": "https://localhost:8080/"
        },
        "outputId": "8ce3b6d5-e23d-42ac-f969-e5e96e6fb031"
      },
      "source": [
        "x=int(input('Enter a number: '))\n",
        "if (x%2) ==0:\n",
        "  print(x,' is Even'.format(x))\n",
        "else:\n",
        "  print(x,' is Odd'.format(x)) "
      ],
      "execution_count": null,
      "outputs": [
        {
          "output_type": "stream",
          "name": "stdout",
          "text": [
            "Enter a number: 2\n",
            "2  is Even\n"
          ]
        }
      ]
    },
    {
      "cell_type": "code",
      "metadata": {
        "id": "TuD1O2R0nvTd"
      },
      "source": [
        "\n"
      ],
      "execution_count": null,
      "outputs": []
    },
    {
      "cell_type": "markdown",
      "metadata": {
        "id": "io_27RSlizno"
      },
      "source": [
        "# Bonus:\n",
        "\n",
        "1.\tIf the number is a multiple of 4, print out a different message.\n",
        "\n",
        "2.\tAsk the user for two numbers: one number to check (call it num) and one number to divide by (check). If check divides evenly into num, tell that to the user. If not, print a different appropriate message.\n"
      ]
    },
    {
      "cell_type": "code",
      "source": [
        "x=int(input('Enter a number: '))\n",
        "if (x%2) ==0:\n",
        "  print(x,' is Even'.format(x))\n",
        "  if (x%4) ==0:\n",
        "    print('Even and multiple of 4'.format(x))\n",
        "else:\n",
        "  print(x,' is Odd'.format(x)) "
      ],
      "metadata": {
        "colab": {
          "base_uri": "https://localhost:8080/"
        },
        "id": "GO9yDfL3daMd",
        "outputId": "5a88c852-facc-4bde-a763-6ae32058b5c6"
      },
      "execution_count": 1,
      "outputs": [
        {
          "output_type": "stream",
          "name": "stdout",
          "text": [
            "Enter a number: 4\n",
            "4  is Even\n",
            "Even and multiple of 4\n"
          ]
        }
      ]
    },
    {
      "cell_type": "code",
      "metadata": {
        "id": "Dh1o5cAylSHB",
        "colab": {
          "base_uri": "https://localhost:8080/"
        },
        "outputId": "564b9093-115b-4ddc-fe8a-acaacb32ad95"
      },
      "source": [
        "x=int(input('Enter a number: '))\n",
        "if (x%2) ==0:\n",
        "  print(x,' is Even'.format(x))\n",
        "  if (x%4) ==0:\n",
        "    print('Even and multiple of 4'.format(x))\n",
        "else:\n",
        "  print(x,' is Odd'.format(x)) "
      ],
      "execution_count": 2,
      "outputs": [
        {
          "output_type": "stream",
          "name": "stdout",
          "text": [
            "Enter a number: 2\n",
            "2  is Even\n"
          ]
        }
      ]
    },
    {
      "cell_type": "code",
      "metadata": {
        "id": "vs8ppR-wlSKL",
        "colab": {
          "base_uri": "https://localhost:8080/"
        },
        "outputId": "fdd8743c-dc12-475a-dd6b-e5321b9393d3"
      },
      "source": [
        "x=int(input('Enter a number: '))\n",
        "if (x%2) ==0:\n",
        "  print(x,' is Even'.format(x))\n",
        "  if (x%4) ==0:\n",
        "    print('Even and multiple of 4'.format(x))\n",
        "else:\n",
        "  print(x,' is Odd'.format(x)) "
      ],
      "execution_count": 3,
      "outputs": [
        {
          "output_type": "stream",
          "name": "stdout",
          "text": [
            "Enter a number: 7\n",
            "7  is Odd\n"
          ]
        }
      ]
    },
    {
      "cell_type": "code",
      "metadata": {
        "id": "rmfPnI5onutd"
      },
      "source": [
        ""
      ],
      "execution_count": null,
      "outputs": []
    },
    {
      "cell_type": "code",
      "metadata": {
        "id": "6000qDkVnuxM"
      },
      "source": [
        ""
      ],
      "execution_count": null,
      "outputs": []
    },
    {
      "cell_type": "code",
      "metadata": {
        "id": "X2X4dTbfnu0M"
      },
      "source": [
        ""
      ],
      "execution_count": null,
      "outputs": []
    }
  ]
}